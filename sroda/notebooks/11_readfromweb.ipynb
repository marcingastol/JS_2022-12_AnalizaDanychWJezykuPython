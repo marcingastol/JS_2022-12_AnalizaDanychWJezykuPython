{
 "cells": [
  {
   "cell_type": "code",
   "execution_count": null,
   "metadata": {},
   "outputs": [],
   "source": [
    "%pip install pandas\n",
    "%pip install requests\n",
    "\n",
    "\n",
    "import pandas as pd\n",
    "import numpy as np\n",
    "import requests"
   ]
  },
  {
   "attachments": {},
   "cell_type": "markdown",
   "metadata": {},
   "source": [
    "## Read from Web"
   ]
  },
  {
   "cell_type": "code",
   "execution_count": 2,
   "metadata": {},
   "outputs": [],
   "source": [
    "a = requests.get(\"https://earthquake.usgs.gov/fdsnws/event/1/application.json\")"
   ]
  },
  {
   "cell_type": "code",
   "execution_count": 4,
   "metadata": {},
   "outputs": [
    {
     "data": {
      "text/plain": [
       "'{\"catalogs\":[\"38457511\",\"=c\",\"aacse\",\"ak\",\"at\",\"atlas\",\"av\",\"cdmg\",\"cgs\",\"choy\",\"ci\",\"cidev\",\"dr\",\"duputel\",\"eqh\",\"ev\",\"ew\",\"ew_dm\",\"gcmt\",\"gsc\",\"hv\",\"id\",\"is\",\"iscgem\",\"iscgemsup\",\"ismpkansas\",\"ld\",\"mb\",\"nc\",\"ne\",\"nm\",\"nn\",\"official\",\"official19631013051759_30\",\"ok\",\"ott\",\"pags\",\"pal\",\"pde\",\"pr\",\"pt\",\"rusms\",\"sc\",\"se\",\"tx\",\"us\",\"usauto\",\"ushis\",\"uu\",\"uw\",\"wes\"],\"contributors\":[\"admin\",\"ak\",\"at\",\"atlas\",\"av\",\"cgs\",\"ci\",\"ew\",\"hv\",\"ismp\",\"ld\",\"mb\",\"nc\",\"nm\",\"nn\",\"np\",\"official\",\"ok\",\"pr\",\"prod01-pdl01.cr.usgs.gov\",\"prod02-pdl01.cr.usgs.gov\",\"pt\",\"se\",\"tx\",\"us\",\"uu\",\"uw\"],\"producttypes\":[\"associate\",\"cap\",\"deleted-text\",\"disassociate\",\"dyfi\",\"earthquake-name\",\"finite-fault\",\"focal-mechanism\",\"general-header\",\"general-link\",\"general-text\",\"geoserve\",\"ground-failure\",\"heartbeat\",\"image\",\"impact-link\",\"impact-text\",\"internal-moment-tensor\",\"internal-origin\",\"losspager\",\"losspager-admin\",\"moment-tensor\",\"moreinformation\",\"nearby-cities\",\"oaf\",\"origin\",\"p-wave-travel-times\",\"phase-data\",\"poster\",\"scitech-link\",\"scitech-text\",\"shake-alert\",\"shakemap\",\"significance\",\"tectonic-summary\",\"touch\",\"trump\",\"trump-cap\",\"trump-dyfi\",\"trump-general-link\",\"trump-general-text\",\"trump-geoserve\",\"trump-ground-failure\",\"trump-impact-text\",\"trump-losspager\",\"trump-moment-tensor\",\"trump-nearby-cities\",\"trump-origin\",\"trump-phase-data\",\"trump-shakemap\",\"trump-tectonic-summary\",\"unassociated-amplitude\"],\"eventtypes\":[\"accidental explosion\",\"acoustic noise\",\"acoustic_noise\",\"anthropogenic_event\",\"building collapse\",\"chemical explosion\",\"chemical_explosion\",\"collapse\",\"earthquake\",\"eq\",\"experimental explosion\",\"explosion\",\"ice quake\",\"induced or triggered event\",\"industrial explosion\",\"landslide\",\"meteor\",\"meteorite\",\"mine collapse\",\"mine_collapse\",\"mining explosion\",\"mining_explosion\",\"not reported\",\"not_reported\",\"nuclear explosion\",\"nuclear_explosion\",\"other\",\"other event\",\"other_event\",\"quarry\",\"quarry blast\",\"quarry_blast\",\"rock burst\",\"Rock Slide\",\"rockslide\",\"rock_burst\",\"snow_avalanche\",\"sonic boom\",\"sonicboom\",\"sonic_boom\",\"train crash\",\"volcanic eruption\",\"volcanic explosion\"],\"magnitudetypes\":[\"2\",\"4\",\"fa\",\"H\",\"hn\",\"lg\",\"m\",\"ma\",\"mb\",\"MbLg\",\"mb_lg\",\"mc\",\"md\",\"mdl\",\"Me\",\"mfa\",\"mh\",\"Mi\",\"mint\",\"ml\",\"mlg\",\"mlr\",\"mlv\",\"Ms\",\"ms_20\",\"Mt\",\"mun\",\"mw\",\"mwb\",\"mwc\",\"mwp\",\"mwr\",\"mww\",\"no\",\"uk\",\"Unknown\"]}'"
      ]
     },
     "execution_count": 4,
     "metadata": {},
     "output_type": "execute_result"
    }
   ],
   "source": [
    "a.text"
   ]
  }
 ],
 "metadata": {
  "kernelspec": {
   "display_name": "Python 3",
   "language": "python",
   "name": "python3"
  },
  "language_info": {
   "codemirror_mode": {
    "name": "ipython",
    "version": 3
   },
   "file_extension": ".py",
   "mimetype": "text/x-python",
   "name": "python",
   "nbconvert_exporter": "python",
   "pygments_lexer": "ipython3",
   "version": "3.10.9 (tags/v3.10.9:1dd9be6, Dec  6 2022, 20:01:21) [MSC v.1934 64 bit (AMD64)]"
  },
  "orig_nbformat": 4,
  "vscode": {
   "interpreter": {
    "hash": "58dbfdb34cf82127b32c5737e6183911655ff227e5c11e8f5e4b25048ae98ef2"
   }
  }
 },
 "nbformat": 4,
 "nbformat_minor": 2
}
