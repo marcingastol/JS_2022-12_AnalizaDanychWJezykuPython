{
 "cells": [
  {
   "cell_type": "code",
   "execution_count": null,
   "metadata": {},
   "outputs": [],
   "source": [
    "%pip install pandas\n",
    "\n",
    "import pandas as pd\n",
    "import numpy as np"
   ]
  },
  {
   "attachments": {},
   "cell_type": "markdown",
   "metadata": {},
   "source": [
    "## Numpy + Pandas"
   ]
  },
  {
   "cell_type": "code",
   "execution_count": 2,
   "metadata": {},
   "outputs": [
    {
     "data": {
      "text/html": [
       "<div>\n",
       "<style scoped>\n",
       "    .dataframe tbody tr th:only-of-type {\n",
       "        vertical-align: middle;\n",
       "    }\n",
       "\n",
       "    .dataframe tbody tr th {\n",
       "        vertical-align: top;\n",
       "    }\n",
       "\n",
       "    .dataframe thead th {\n",
       "        text-align: right;\n",
       "    }\n",
       "</style>\n",
       "<table border=\"1\" class=\"dataframe\">\n",
       "  <thead>\n",
       "    <tr style=\"text-align: right;\">\n",
       "      <th></th>\n",
       "      <th>a</th>\n",
       "      <th>b</th>\n",
       "      <th>c</th>\n",
       "      <th>d</th>\n",
       "      <th>e</th>\n",
       "      <th>f</th>\n",
       "    </tr>\n",
       "  </thead>\n",
       "  <tbody>\n",
       "    <tr>\n",
       "      <th>q</th>\n",
       "      <td>0.422454</td>\n",
       "      <td>2.060339</td>\n",
       "      <td>-2.030752</td>\n",
       "      <td>-0.252266</td>\n",
       "      <td>1.248557</td>\n",
       "      <td>0.236582</td>\n",
       "    </tr>\n",
       "    <tr>\n",
       "      <th>w</th>\n",
       "      <td>-0.051695</td>\n",
       "      <td>-0.415766</td>\n",
       "      <td>-1.218847</td>\n",
       "      <td>0.979586</td>\n",
       "      <td>-1.714635</td>\n",
       "      <td>-1.524610</td>\n",
       "    </tr>\n",
       "    <tr>\n",
       "      <th>e</th>\n",
       "      <td>-0.216980</td>\n",
       "      <td>0.713623</td>\n",
       "      <td>0.239798</td>\n",
       "      <td>0.339707</td>\n",
       "      <td>0.928208</td>\n",
       "      <td>-0.224577</td>\n",
       "    </tr>\n",
       "    <tr>\n",
       "      <th>t</th>\n",
       "      <td>-2.732383</td>\n",
       "      <td>-1.930819</td>\n",
       "      <td>1.582488</td>\n",
       "      <td>1.916077</td>\n",
       "      <td>-1.985972</td>\n",
       "      <td>0.229043</td>\n",
       "    </tr>\n",
       "    <tr>\n",
       "      <th>y</th>\n",
       "      <td>0.587931</td>\n",
       "      <td>0.847247</td>\n",
       "      <td>-0.275458</td>\n",
       "      <td>-0.841433</td>\n",
       "      <td>0.838466</td>\n",
       "      <td>-0.132781</td>\n",
       "    </tr>\n",
       "  </tbody>\n",
       "</table>\n",
       "</div>"
      ],
      "text/plain": [
       "          a         b         c         d         e         f\n",
       "q  0.422454  2.060339 -2.030752 -0.252266  1.248557  0.236582\n",
       "w -0.051695 -0.415766 -1.218847  0.979586 -1.714635 -1.524610\n",
       "e -0.216980  0.713623  0.239798  0.339707  0.928208 -0.224577\n",
       "t -2.732383 -1.930819  1.582488  1.916077 -1.985972  0.229043\n",
       "y  0.587931  0.847247 -0.275458 -0.841433  0.838466 -0.132781"
      ]
     },
     "execution_count": 2,
     "metadata": {},
     "output_type": "execute_result"
    }
   ],
   "source": [
    "a = pd.DataFrame(np.random.standard_normal((5,6)), columns=list(\"abcdef\"), index=[\"q\",\"w\",\"e\",\"t\",\"y\"])\n",
    "a"
   ]
  },
  {
   "cell_type": "code",
   "execution_count": null,
   "metadata": {},
   "outputs": [],
   "source": [
    "np.abs(a)"
   ]
  },
  {
   "cell_type": "code",
   "execution_count": 5,
   "metadata": {},
   "outputs": [
    {
     "data": {
      "text/plain": [
       "q    4.091091\n",
       "w    2.694220\n",
       "e    1.152784\n",
       "t    4.648460\n",
       "y    1.688680\n",
       "dtype: float64"
      ]
     },
     "execution_count": 5,
     "metadata": {},
     "output_type": "execute_result"
    }
   ],
   "source": [
    "def funkcja(arg1):\n",
    "    return arg1.max() - arg1.min()\n",
    "\n",
    "a.apply(funkcja, axis=\"columns\")"
   ]
  },
  {
   "cell_type": "code",
   "execution_count": 6,
   "metadata": {},
   "outputs": [
    {
     "data": {
      "text/html": [
       "<div>\n",
       "<style scoped>\n",
       "    .dataframe tbody tr th:only-of-type {\n",
       "        vertical-align: middle;\n",
       "    }\n",
       "\n",
       "    .dataframe tbody tr th {\n",
       "        vertical-align: top;\n",
       "    }\n",
       "\n",
       "    .dataframe thead th {\n",
       "        text-align: right;\n",
       "    }\n",
       "</style>\n",
       "<table border=\"1\" class=\"dataframe\">\n",
       "  <thead>\n",
       "    <tr style=\"text-align: right;\">\n",
       "      <th></th>\n",
       "      <th>a</th>\n",
       "      <th>b</th>\n",
       "      <th>c</th>\n",
       "      <th>d</th>\n",
       "      <th>e</th>\n",
       "      <th>f</th>\n",
       "    </tr>\n",
       "  </thead>\n",
       "  <tbody>\n",
       "    <tr>\n",
       "      <th>minimum</th>\n",
       "      <td>-2.732383</td>\n",
       "      <td>-1.930819</td>\n",
       "      <td>-2.030752</td>\n",
       "      <td>-0.841433</td>\n",
       "      <td>-1.985972</td>\n",
       "      <td>-1.524610</td>\n",
       "    </tr>\n",
       "    <tr>\n",
       "      <th>maximum</th>\n",
       "      <td>0.587931</td>\n",
       "      <td>2.060339</td>\n",
       "      <td>1.582488</td>\n",
       "      <td>1.916077</td>\n",
       "      <td>1.248557</td>\n",
       "      <td>0.236582</td>\n",
       "    </tr>\n",
       "  </tbody>\n",
       "</table>\n",
       "</div>"
      ],
      "text/plain": [
       "                a         b         c         d         e         f\n",
       "minimum -2.732383 -1.930819 -2.030752 -0.841433 -1.985972 -1.524610\n",
       "maximum  0.587931  2.060339  1.582488  1.916077  1.248557  0.236582"
      ]
     },
     "execution_count": 6,
     "metadata": {},
     "output_type": "execute_result"
    }
   ],
   "source": [
    "def funkcja2(arg1):\n",
    "    return pd.Series([arg1.min(), arg1.max()], index=[\"minimum\",\"maximum\"])\n",
    "\n",
    "a.apply(funkcja2)"
   ]
  },
  {
   "cell_type": "code",
   "execution_count": 8,
   "metadata": {},
   "outputs": [
    {
     "data": {
      "text/html": [
       "<div>\n",
       "<style scoped>\n",
       "    .dataframe tbody tr th:only-of-type {\n",
       "        vertical-align: middle;\n",
       "    }\n",
       "\n",
       "    .dataframe tbody tr th {\n",
       "        vertical-align: top;\n",
       "    }\n",
       "\n",
       "    .dataframe thead th {\n",
       "        text-align: right;\n",
       "    }\n",
       "</style>\n",
       "<table border=\"1\" class=\"dataframe\">\n",
       "  <thead>\n",
       "    <tr style=\"text-align: right;\">\n",
       "      <th></th>\n",
       "      <th>a</th>\n",
       "      <th>b</th>\n",
       "      <th>c</th>\n",
       "      <th>d</th>\n",
       "      <th>e</th>\n",
       "      <th>f</th>\n",
       "    </tr>\n",
       "  </thead>\n",
       "  <tbody>\n",
       "    <tr>\n",
       "      <th>q</th>\n",
       "      <td>0.422</td>\n",
       "      <td>2.060</td>\n",
       "      <td>-2.031</td>\n",
       "      <td>-0.252</td>\n",
       "      <td>1.249</td>\n",
       "      <td>0.237</td>\n",
       "    </tr>\n",
       "    <tr>\n",
       "      <th>w</th>\n",
       "      <td>-0.052</td>\n",
       "      <td>-0.416</td>\n",
       "      <td>-1.219</td>\n",
       "      <td>0.980</td>\n",
       "      <td>-1.715</td>\n",
       "      <td>-1.525</td>\n",
       "    </tr>\n",
       "    <tr>\n",
       "      <th>e</th>\n",
       "      <td>-0.217</td>\n",
       "      <td>0.714</td>\n",
       "      <td>0.240</td>\n",
       "      <td>0.340</td>\n",
       "      <td>0.928</td>\n",
       "      <td>-0.225</td>\n",
       "    </tr>\n",
       "    <tr>\n",
       "      <th>t</th>\n",
       "      <td>-2.732</td>\n",
       "      <td>-1.931</td>\n",
       "      <td>1.582</td>\n",
       "      <td>1.916</td>\n",
       "      <td>-1.986</td>\n",
       "      <td>0.229</td>\n",
       "    </tr>\n",
       "    <tr>\n",
       "      <th>y</th>\n",
       "      <td>0.588</td>\n",
       "      <td>0.847</td>\n",
       "      <td>-0.275</td>\n",
       "      <td>-0.841</td>\n",
       "      <td>0.838</td>\n",
       "      <td>-0.133</td>\n",
       "    </tr>\n",
       "  </tbody>\n",
       "</table>\n",
       "</div>"
      ],
      "text/plain": [
       "        a       b       c       d       e       f\n",
       "q   0.422   2.060  -2.031  -0.252   1.249   0.237\n",
       "w  -0.052  -0.416  -1.219   0.980  -1.715  -1.525\n",
       "e  -0.217   0.714   0.240   0.340   0.928  -0.225\n",
       "t  -2.732  -1.931   1.582   1.916  -1.986   0.229\n",
       "y   0.588   0.847  -0.275  -0.841   0.838  -0.133"
      ]
     },
     "execution_count": 8,
     "metadata": {},
     "output_type": "execute_result"
    }
   ],
   "source": [
    "def funkcja3(arg1):\n",
    "    return f\"{arg1:.3f}\"\n",
    "\n",
    "a.applymap(funkcja3)"
   ]
  },
  {
   "cell_type": "code",
   "execution_count": 9,
   "metadata": {},
   "outputs": [
    {
     "data": {
      "text/plain": [
       "q     0.422\n",
       "w    -0.052\n",
       "e    -0.217\n",
       "t    -2.732\n",
       "y     0.588\n",
       "Name: a, dtype: object"
      ]
     },
     "execution_count": 9,
     "metadata": {},
     "output_type": "execute_result"
    }
   ],
   "source": [
    "a[\"a\"].map(funkcja3)"
   ]
  }
 ],
 "metadata": {
  "kernelspec": {
   "display_name": "Python 3",
   "language": "python",
   "name": "python3"
  },
  "language_info": {
   "codemirror_mode": {
    "name": "ipython",
    "version": 3
   },
   "file_extension": ".py",
   "mimetype": "text/x-python",
   "name": "python",
   "nbconvert_exporter": "python",
   "pygments_lexer": "ipython3",
   "version": "3.10.9 (tags/v3.10.9:1dd9be6, Dec  6 2022, 20:01:21) [MSC v.1934 64 bit (AMD64)]"
  },
  "orig_nbformat": 4,
  "vscode": {
   "interpreter": {
    "hash": "58dbfdb34cf82127b32c5737e6183911655ff227e5c11e8f5e4b25048ae98ef2"
   }
  }
 },
 "nbformat": 4,
 "nbformat_minor": 2
}
