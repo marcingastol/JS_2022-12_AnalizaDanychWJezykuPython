{
 "cells": [
  {
   "cell_type": "code",
   "execution_count": 1,
   "metadata": {},
   "outputs": [
    {
     "name": "stdout",
     "output_type": "stream",
     "text": [
      "0    False\n",
      "1     True\n",
      "2     True\n",
      "3    False\n",
      "4    False\n",
      "dtype: bool\n"
     ]
    }
   ],
   "source": [
    "\n",
    "\n",
    "##################################################\n",
    "# 1. Porównaj elementy dwóch serii ze sobą : >, <, ==\n",
    "\n",
    "a = pd.Series([1,2,3,4,5])\n",
    "b = pd.Series([4,2,3,5,2])\n",
    "\n",
    "print(a == b)"
   ]
  }
 ],
 "metadata": {
  "kernelspec": {
   "display_name": ".venv",
   "language": "python",
   "name": "python3"
  },
  "language_info": {
   "codemirror_mode": {
    "name": "ipython",
    "version": 3
   },
   "file_extension": ".py",
   "mimetype": "text/x-python",
   "name": "python",
   "nbconvert_exporter": "python",
   "pygments_lexer": "ipython3",
   "version": "3.10.4"
  },
  "orig_nbformat": 4,
  "vscode": {
   "interpreter": {
    "hash": "2643ff38b58d92ee11022298d69b31bc1373f5015819e6ae1d7748247136e152"
   }
  }
 },
 "nbformat": 4,
 "nbformat_minor": 2
}
